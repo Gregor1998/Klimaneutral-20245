{
 "cells": [
  {
   "cell_type": "code",
   "execution_count": 24,
   "metadata": {},
   "outputs": [
    {
     "name": "stdout",
     "output_type": "stream",
     "text": [
      "Selected columns exported to /Users/private/Desktop/Projects/Klimaneutral-20245/CSV/Lastprofile/eMobilitaet/2023/lastprofil_Arbeitstag.csv successfully.\n",
      "Selected columns exported to /Users/private/Desktop/Projects/Klimaneutral-20245/CSV/Lastprofile/eMobilitaet/2023/lastprofil_Samstag.csv successfully.\n",
      "Selected columns exported to /Users/private/Desktop/Projects/Klimaneutral-20245/CSV/Lastprofile/eMobilitaet/2023/lastprofil_Sonntag_Feiertage.csv successfully.\n"
     ]
    }
   ],
   "source": [
    "#für jedes jahr bis 2030 das lastprofil für tage kalkulieren\n",
    "import openpyxl\n",
    "import csv\n",
    "\n",
    "\n",
    "def export_columns_to_csv(excel_file, columns, output_csv, sheet_name):\n",
    "    \"\"\"\n",
    "    Export specified columns from an Excel sheet to a CSV file.\n",
    "    \n",
    "    :param excel_file: Path to the Excel file\n",
    "    :param sheet_name: Name of the sheet\n",
    "    :param columns: List of column letters to export (e.g., [\"A\", \"B\", \"C\", \"D\", \"E\"])\n",
    "    :param output_csv: Path to save the CSV file\n",
    "    \"\"\"\n",
    "    # Load the workbook and sheet\n",
    "    workbook = openpyxl.load_workbook(excel_file, data_only=True)\n",
    "    sheet = workbook[sheet_name]\n",
    "    \n",
    "    # Open a CSV file to write the selected columns\n",
    "    with open(output_csv, mode='w', newline='', encoding='utf-8') as csv_file:\n",
    "        csv_writer = csv.writer(csv_file)\n",
    "        \n",
    "        # Iterate through each row, writing only the selected columns\n",
    "        for row in sheet.iter_rows(min_row=1, max_row=sheet.max_row):\n",
    "            csv_writer.writerow([row[openpyxl.utils.column_index_from_string(col) - 1].value for col in columns])\n",
    "    \n",
    "    print(f\"Selected columns exported to {output_csv} successfully.\")\n",
    "\n",
    "# Parameters\n",
    "excel_file = \"/Users/private/Downloads/Lastprofil Wohngebäude (1).xlsx\"  # Path to your Excel file\n",
    "\n",
    "\n",
    "columns = [\"A\", \"B\", \"C\", \"E\", \"F\"]           # List of columns to export\n",
    "\n",
    "\n",
    "# Call the function\n",
    "\n",
    "for day in [\"Arbeitstag\", \"Samstag\", \"Sonntag_Feiertage\"]:\n",
    "    sheet_name = day\n",
    "\n",
    "    output_csv = f\"/Users/private/Desktop/Projects/Klimaneutral-20245/CSV/Lastprofile/eMobilitaet/2023/lastprofil_{day}.csv\"\n",
    "\n",
    "\n",
    "    export_columns_to_csv(excel_file, columns, output_csv, sheet_name)\n",
    "\n",
    "\n",
    "\n",
    "\n",
    "\n"
   ]
  }
 ],
 "metadata": {
  "kernelspec": {
   "display_name": "base",
   "language": "python",
   "name": "python3"
  },
  "language_info": {
   "codemirror_mode": {
    "name": "ipython",
    "version": 3
   },
   "file_extension": ".py",
   "mimetype": "text/x-python",
   "name": "python",
   "nbconvert_exporter": "python",
   "pygments_lexer": "ipython3",
   "version": "3.12.4"
  }
 },
 "nbformat": 4,
 "nbformat_minor": 2
}
