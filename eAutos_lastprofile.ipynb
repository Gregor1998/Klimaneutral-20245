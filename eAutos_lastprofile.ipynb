{
 "cells": [
  {
   "cell_type": "code",
   "execution_count": 10,
   "metadata": {},
   "outputs": [],
   "source": [
    "import pandas as pd\n",
    "import os\n",
    "from utils import config"
   ]
  },
  {
   "cell_type": "code",
   "execution_count": 11,
   "metadata": {},
   "outputs": [],
   "source": [
    "eAutoskWh = config.params.eAutoskWh\n",
    "eAutosNow = config.params.eAutosNow # 1.4 Mio eAutos in Deutschland Stand 2023\n",
    "eAutosIncrease = config.params.eAutosIncrease # wieiviele eAutos kommen pro Jahr dazu\n",
    "wochentage = ['Wochentag', 'Samstag', 'Sonntag']\n",
    "lastprofilTypes = ['Wohnen', 'Büro', 'Öffentliche_Ladepunkte']\n",
    "chargin_distribution = {\n",
    "    'Wohnen': config.params.chargin_distribution_home,\n",
    "    'Büro': config.params.chargin_distribution_office,\n",
    "    'Öffentliche_Ladepunkte': config.params.chargin_distribution_public\n",
    "}"
   ]
  },
  {
   "cell_type": "code",
   "execution_count": 12,
   "metadata": {},
   "outputs": [
    {
     "name": "stdout",
     "output_type": "stream",
     "text": [
      "979999.9999999999\n",
      "210000.0\n",
      "210000.0\n",
      "1225000.0\n",
      "262500.0\n",
      "262500.0\n",
      "1470000.0\n",
      "315000.0\n",
      "315000.0\n",
      "1715000.0\n",
      "367500.0\n",
      "367500.0\n",
      "1959999.9999999998\n",
      "420000.0\n",
      "420000.0\n",
      "2205000.0\n",
      "472500.0\n",
      "472500.0\n",
      "2450000.0\n",
      "525000.0\n",
      "525000.0\n",
      "2695000.0\n",
      "577500.0\n",
      "577500.0\n"
     ]
    }
   ],
   "source": [
    "# lastprofilType = Büro/Wohnen/Öffentliche_Ladepunkte\n",
    "def calcLastprofil(year, eAutosAmount, lastprofilType):\n",
    "    # read csv to dataframe\n",
    "    # calculate values to dataframe\n",
    "    # write dataframe to csv\n",
    "    # lastprofil -> lp\n",
    "    \n",
    "\n",
    "    for tag in wochentage:\n",
    "\n",
    "        filepath_lp = f'CSV/Lastprofile/eMobilitaet/base/{lastprofilType}/{tag}.csv'\n",
    "        output_dir = f'CSV/Lastprofile/eMobilitaet/{year}/{lastprofilType}'\n",
    "        output_filepath = f'{output_dir}/{tag}.csv'\n",
    "\n",
    "        # Einlesen der CSV-Dateien\n",
    "        lp = pd.read_csv(filepath_lp, delimiter=';')\n",
    "\n",
    "       # Ersetze Komma durch Punkt und konvertiere die Spalte in numerische Werte\n",
    "        lp['Relativer Bedarf'] = lp['Relativer Bedarf'].str.replace(',', '.').astype(float)\n",
    "\n",
    "\n",
    "        #calculate other columns\n",
    "        sum_relative_bedarf = lp['Relativer Bedarf'].sum()\n",
    "\n",
    "        # Normalisierter Bedarf\n",
    "        lp['Normierter Bedarf'] = lp['Relativer Bedarf'] / sum_relative_bedarf\n",
    "\n",
    "        # Anzahl Autos\n",
    "        lp['Anzahl Autos'] = lp['Normierter Bedarf'] * eAutosAmount\n",
    "\n",
    "        # Strombedarf \n",
    "        lp['Strombedarf (kWh)'] = lp['Anzahl Autos'] * eAutoskWh\n",
    "\n",
    "        # Erstelle das Verzeichnis, falls es nicht existiert\n",
    "        os.makedirs(output_dir, exist_ok=True)\n",
    "\n",
    "        # Schreibe den DataFrame in eine CSV-Datei\n",
    "        lp.to_csv(output_filepath, index=False, sep=';')\n",
    "\n",
    "\n",
    "\n",
    "for year in range(config.params.start_year_simulation-1, config.params.end_year_simulation+1):\n",
    "\n",
    "    # für jeden Bereich die lastprofile für alle jahre berechnen (wohnen, büro, öffentliche ladepunkte)\n",
    "    for lastprofilType in lastprofilTypes:\n",
    "        \n",
    "        # Berechne die Anzahl der eAutos pro Ladebereich\n",
    "        eAutos_per_chargin_area = eAutosNow * chargin_distribution[lastprofilType]\n",
    "        # Berechne das Lastprofil\n",
    "        calcLastprofil(year, eAutos_per_chargin_area, lastprofilType)\n",
    "\n",
    "    eAutosNow += eAutosIncrease\n",
    "\n"
   ]
  }
 ],
 "metadata": {
  "kernelspec": {
   "display_name": "base",
   "language": "python",
   "name": "python3"
  },
  "language_info": {
   "codemirror_mode": {
    "name": "ipython",
    "version": 3
   },
   "file_extension": ".py",
   "mimetype": "text/x-python",
   "name": "python",
   "nbconvert_exporter": "python",
   "pygments_lexer": "ipython3",
   "version": "3.12.4"
  }
 },
 "nbformat": 4,
 "nbformat_minor": 2
}
