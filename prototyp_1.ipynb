{
 "cells": [
  {
   "cell_type": "code",
   "execution_count": 1,
   "metadata": {},
   "outputs": [],
   "source": [
    "import numpy as np # type: ignore\n",
    "import pandas as pd # type: ignore\n",
    "import seaborn as sns # type: ignore\n",
    "import matplotlib.pyplot as plt # type: ignore\n",
    "import os\n",
    "from pathlib import Path\n",
    "from datetime import datetime"
   ]
  },
  {
   "cell_type": "code",
   "execution_count": 2,
   "metadata": {},
   "outputs": [],
   "source": [
    "# eigene Utils\n",
    "from utils.addTimeInformation import addTimeInformation\n",
    "from utils.combineDataFrames import combineDataFrames\n",
    "from utils.extraploation_class import Extrapolation\n",
    "from utils.plotCalendarHeatmap import plotCalendarHeatmap\n",
    "from utils.read_CSV import *\n",
    "from utils.calcDifference import differenceBetweenDataframes\n",
    "from utils.calculateConsumption import calculateConsumption, getConsumptionYear"
   ]
  },
  {
   "cell_type": "code",
   "execution_count": 3,
   "metadata": {},
   "outputs": [],
   "source": [
    "# Faktoren, Variablen\n",
    "\n",
    "consumption_development_rate = 1.05"
   ]
  },
  {
   "cell_type": "markdown",
   "metadata": {},
   "source": [
    "# CSV einlesen (Erzeugung)"
   ]
  },
  {
   "cell_type": "code",
   "execution_count": 4,
   "metadata": {},
   "outputs": [
    {
     "name": "stdout",
     "output_type": "stream",
     "text": [
      "Data für 2015 loaded succsessfully.\n",
      "Data für 2016 loaded succsessfully.\n",
      "Data für 2017 loaded succsessfully.\n",
      "Data für 2018 loaded succsessfully.\n",
      "Data für 2019 loaded succsessfully.\n",
      "Data für 2020 loaded succsessfully.\n",
      "Data für 2021 loaded succsessfully.\n",
      "Data für 2022 loaded succsessfully.\n",
      "Data für 2023 loaded succsessfully.\n"
     ]
    }
   ],
   "source": [
    "#alle Daten ab 2015 einlesen\n",
    "directory_yearly_generation = getData(\"Erzeugung\")\n",
    "\n",
    "# Daten extrapolieren 2024 bis 2030\n",
    "for year in range(2024,2031):\n",
    "    prev_year_df =directory_yearly_generation.get(year-1).copy()    #Kopie des Dataframe des letzten Jahres\n",
    "    extrapolated_data = Extrapolation(prev_year_df, year, 1.05, 1.03, 1.04)        #Erstellung eines neuen Objekts, mit einem DataFrame\n",
    "    directory_yearly_generation[extrapolated_data.year]= extrapolated_data.df   #DataFrame in das Erzeugungsverzeichnis gespeichert wird\n"
   ]
  },
  {
   "cell_type": "markdown",
   "metadata": {},
   "source": [
    "# Erzeugung 2030 (Gesamt)"
   ]
  },
  {
   "cell_type": "code",
   "execution_count": 5,
   "metadata": {},
   "outputs": [],
   "source": [
    "# Lade die Daten für das Jahr 2030\n",
    "df_2030 = directory_yearly_generation.get(2030)\n",
    "\n",
    "# Überprüfe, ob die Spalten vorhanden sind\n",
    "required_columns = ['Wind Offshore', 'Wind Onshore', 'Photovoltaik']\n",
    "if all(column in df_2030.columns for column in required_columns):\n",
    "    # Berechne die Summe der gewünschten Spalten für jede 15-Minuten-Periode\n",
    "    df_2030['Gesamterzeugung_EE'] = df_2030[required_columns].sum(axis=1)\n",
    "    \n",
    "    # Speichere die Ergebnisse in production_2030\n",
    "    production_2030 = df_2030[['Datum', 'Gesamterzeugung_EE']]\n",
    "    \n",
    "    #print(production_2030)\n",
    "else:\n",
    "    print(\"Eine oder mehrere der erforderlichen Spalten fehlen im DataFrame für 2030.\")"
   ]
  },
  {
   "cell_type": "markdown",
   "metadata": {},
   "source": [
    "# Verbrauch 2030 (Gesamt)"
   ]
  },
  {
   "cell_type": "code",
   "execution_count": 6,
   "metadata": {},
   "outputs": [
    {
     "name": "stdout",
     "output_type": "stream",
     "text": [
      "Data für 2023 loaded succsessfully.\n"
     ]
    }
   ],
   "source": [
    "consumption_existing_years = calculateConsumption(consumption_development_rate)\n",
    "consumption_2030 = consumption_existing_years.get(2030)"
   ]
  },
  {
   "cell_type": "markdown",
   "metadata": {},
   "source": [
    "# Differenz bilden"
   ]
  },
  {
   "cell_type": "markdown",
   "metadata": {},
   "source": []
  },
  {
   "cell_type": "code",
   "execution_count": 7,
   "metadata": {},
   "outputs": [
    {
     "name": "stdout",
     "output_type": "stream",
     "text": [
      "                    Datum    Differenz\n",
      "0     2030-01-01 00:00:00  2713.895385\n",
      "1     2030-01-01 00:15:00  2511.901102\n",
      "2     2030-01-01 00:30:00  2174.559249\n",
      "3     2030-01-01 00:45:00  2393.623849\n",
      "4     2030-01-01 01:00:00  2004.345863\n",
      "...                   ...          ...\n",
      "35035 2030-12-31 22:45:00  2675.650795\n",
      "35036 2030-12-31 23:00:00  2662.133043\n",
      "35037 2030-12-31 23:15:00  2531.624569\n",
      "35038 2030-12-31 23:30:00  2330.997366\n",
      "35039 2030-12-31 23:45:00  2143.091762\n",
      "\n",
      "[35040 rows x 2 columns]\n"
     ]
    }
   ],
   "source": [
    "# Annahme: consumption_2030 und production_2030 sind bereits definierte DataFrames mit einer 'Datum'-Spalte und einer 'Gesamtverbrauch'-Spalte\n",
    "\n",
    "# Überprüfe, ob beide DataFrames die gleiche Zeitachse haben\n",
    "\n",
    "resdidual_df = differenceBetweenDataframes(consumption_2030, production_2030)\n",
    "\n",
    "print(resdidual_df)"
   ]
  },
  {
   "cell_type": "markdown",
   "metadata": {},
   "source": [
    "# CO2-Bilanz bilden"
   ]
  },
  {
   "cell_type": "code",
   "execution_count": null,
   "metadata": {},
   "outputs": [],
   "source": []
  },
  {
   "cell_type": "markdown",
   "metadata": {},
   "source": [
    "# User-Info"
   ]
  }
 ],
 "metadata": {
  "kernelspec": {
   "display_name": "base",
   "language": "python",
   "name": "python3"
  },
  "language_info": {
   "codemirror_mode": {
    "name": "ipython",
    "version": 3
   },
   "file_extension": ".py",
   "mimetype": "text/x-python",
   "name": "python",
   "nbconvert_exporter": "python",
   "pygments_lexer": "ipython3",
   "version": "3.12.4"
  }
 },
 "nbformat": 4,
 "nbformat_minor": 2
}
