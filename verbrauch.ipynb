{
 "cells": [
  {
   "cell_type": "code",
   "execution_count": 2,
   "metadata": {},
   "outputs": [],
   "source": [
    "import numpy as np # type: ignore\n",
    "import pandas as pd # type: ignore\n",
    "import seaborn as sns # type: ignore\n",
    "import matplotlib.pyplot as plt # type: ignore\n",
    "import os"
   ]
  },
  {
   "cell_type": "code",
   "execution_count": 3,
   "metadata": {},
   "outputs": [],
   "source": [
    "def addTimeInformation(df):\n",
    "    df['Time'] = df['Datum'].dt.time\n",
    "    df['Month'] = df['Datum'].dt.strftime('%b')\n",
    "    df['Year Month'] = df['Datum'].dt.strftime('%Y %m')\n",
    "    df['Year Month Day'] = df['Datum'].dt.strftime('%Y %m %d')\n",
    "    df['Day'] = df['Datum'].dt.strftime('%d')\n",
    "    df['Year'] = df['Datum'].dt.strftime('%Y')\n",
    "    df['Weekday'] = df['Datum'].dt.strftime('%u')\n",
    "    df['Week'] = df['Datum'].dt.strftime('%W')\n",
    "    return df"
   ]
  },
  {
   "cell_type": "code",
   "execution_count": 4,
   "metadata": {},
   "outputs": [],
   "source": [
    "def read_SMARD_data(path):\n",
    "    df = pd.read_csv(path,delimiter= ';', thousands='.', decimal=',', dayfirst =\"True\") #, parse_dates=[[0,1]]\n",
    "\n",
    "    #Herauslöschen der Spalte Datum bis, da diese keine zusätzlichen Informationen bietet\n",
    "    df.drop(columns=[\"Datum bis\"], inplace=True)\n",
    "\n",
    "    #Umbenennung der Spalten\n",
    "    df.rename(columns= {\n",
    "        \"Datum von\":\"Datum\",\n",
    "        \"Gesamt (Netzlast) [MWh] Originalauflösungen\":\"Gesamtverbrauch\",\n",
    "        \"Residuallast [MWh] Originalauflösungen\":\"Residuallast\",\n",
    "        \"Pumpspeicher [MWh] Originalauflösungen\":\"Pumpspeicher\",  \n",
    "    }, inplace = True)\n",
    "\n",
    "    #Formatierung der Datumstpalte\n",
    "    df['Datum'] = pd.to_datetime(df['Datum'], format= '%d.%m.%Y %H:%M')\n",
    "    addTimeInformation(df)\n",
    "\n",
    "    \n",
    "    return df"
   ]
  },
  {
   "cell_type": "code",
   "execution_count": null,
   "metadata": {},
   "outputs": [],
   "source": [
    "def getData():\n",
    "    dataFrames = {} # Dictionary für die df für jedes Jahr\n",
    "    path_var = \"/Users/private/Desktop/Projects/Klimaneutral-20245/CSV/Verbrauch/\" #Pfad auf den Ordner, um später durch die Datein zu navigieren\n",
    "\n",
    "    #Schleife für die Jahre 2015-2023 und Einlesen der Datei\n",
    "    for year in range(2023,2024): # hier könnte man später sich die Jahre auch vom User geben lassen, welche Jahre er gerne eingelesen haben möchte\n",
    "        #Dateipfad für das entsprechende Jahr\n",
    "        file_path = os.path.join(path_var, f\"Realisierter_Stromverbrauch_{year}01010000_{year+1}01010000_Viertelstunde.csv\")\n",
    "        if os.path.exists(file_path):   #Falls dieser zusammengesetze Pfad existiert,...\n",
    "            dataFrames[year] = read_SMARD_data(file_path)   #... soll dieser eingelesen werden\n",
    "            print(f\"Data für {year} loaded succsessfully.\")\n",
    "        else:\n",
    "            print(f\"File for {year} not found at path: {file_path}\") #... anstonsten nicht\n",
    "\n",
    "    \n",
    "    return dataFrames   #Rückgabe der eingelesenen Date als DataFrame"
   ]
  },
  {
   "cell_type": "code",
   "execution_count": 10,
   "metadata": {},
   "outputs": [
    {
     "name": "stdout",
     "output_type": "stream",
     "text": [
      "File for 2023 not found at path: /CSV/Verbrauch/Realisierter_Stromverbrauch_202301010000_202401010000_Viertelstunde.csv\n"
     ]
    }
   ],
   "source": [
    "getData();"
   ]
  }
 ],
 "metadata": {
  "kernelspec": {
   "display_name": "base",
   "language": "python",
   "name": "python3"
  },
  "language_info": {
   "codemirror_mode": {
    "name": "ipython",
    "version": 3
   },
   "file_extension": ".py",
   "mimetype": "text/x-python",
   "name": "python",
   "nbconvert_exporter": "python",
   "pygments_lexer": "ipython3",
   "version": "3.12.4"
  }
 },
 "nbformat": 4,
 "nbformat_minor": 2
}
