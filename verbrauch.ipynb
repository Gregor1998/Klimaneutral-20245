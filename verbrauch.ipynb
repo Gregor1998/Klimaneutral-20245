{
 "cells": [
  {
   "cell_type": "code",
   "execution_count": 24,
   "metadata": {},
   "outputs": [],
   "source": [
    "import numpy as np # type: ignore\n",
    "import pandas as pd # type: ignore\n",
    "import seaborn as sns # type: ignore\n",
    "import matplotlib.pyplot as plt # type: ignore\n",
    "import os"
   ]
  },
  {
   "cell_type": "code",
   "execution_count": 25,
   "metadata": {},
   "outputs": [],
   "source": [
    "def addTimeInformation(df):\n",
    "    df['Time'] = df['Datum'].dt.time\n",
    "    df['Month'] = df['Datum'].dt.strftime('%b')\n",
    "    df['Year Month'] = df['Datum'].dt.strftime('%Y %m')\n",
    "    df['Year Month Day'] = df['Datum'].dt.strftime('%Y %m %d')\n",
    "    df['Day'] = df['Datum'].dt.strftime('%d')\n",
    "    df['Year'] = df['Datum'].dt.strftime('%Y')\n",
    "    df['Weekday'] = df['Datum'].dt.strftime('%u')\n",
    "    df['Week'] = df['Datum'].dt.strftime('%W')\n",
    "    return df"
   ]
  },
  {
   "cell_type": "code",
   "execution_count": 26,
   "metadata": {},
   "outputs": [],
   "source": [
    "def read_SMARD_data(path):\n",
    "    df = pd.read_csv(path,delimiter= ';', thousands='.', decimal=',', dayfirst =\"True\") #, parse_dates=[[0,1]]\n",
    "\n",
    "    #Herauslöschen der Spalte Datum bis, da diese keine zusätzlichen Informationen bietet\n",
    "    df.drop(columns=[\"Datum bis\"], inplace=True)\n",
    "\n",
    "    #Umbenennung der Spalten\n",
    "    df.rename(columns= {\n",
    "        \"Datum von\":\"Datum\",\n",
    "        \"Gesamt (Netzlast) [MWh] Originalauflösungen\":\"Gesamtverbrauch\",\n",
    "        \"Residuallast [MWh] Originalauflösungen\":\"Residuallast\",\n",
    "        \"Pumpspeicher [MWh] Originalauflösungen\":\"Pumpspeicher\",  \n",
    "    }, inplace = True)\n",
    "\n",
    "    #Formatierung der Datumstpalte\n",
    "    df['Datum'] = pd.to_datetime(df['Datum'], format= '%d.%m.%Y %H:%M')\n",
    "    #addTimeInformation(df)\n",
    "\n",
    "    \n",
    "    return df"
   ]
  },
  {
   "cell_type": "code",
   "execution_count": 27,
   "metadata": {},
   "outputs": [],
   "source": [
    "def getData():\n",
    "    dataFrames = {} # Dictionary für die df für jedes Jahr\n",
    "    path_var = \"CSV/Verbrauch/\" #Pfad auf den Ordner, um später durch die Datein zu navigieren\n",
    "\n",
    "    #Schleife für die Jahre 2015-2023 und Einlesen der Datei\n",
    "    for year in range(2023,2024): # hier könnte man später sich die Jahre auch vom User geben lassen, welche Jahre er gerne eingelesen haben möchte\n",
    "        #Dateipfad für das entsprechende Jahr\n",
    "        file_path = os.path.join(path_var, f\"Realisierter_Stromverbrauch_{year}01010000_{year+1}01010000_Viertelstunde.csv\")\n",
    "        if os.path.exists(file_path):   #Falls dieser zusammengesetze Pfad existiert,...\n",
    "            dataFrames[year] = read_SMARD_data(file_path)   #... soll dieser eingelesen werden\n",
    "            print(f\"Data für {year} loaded succsessfully.\")\n",
    "        else:\n",
    "            print(f\"File for {year} not found at path: {file_path}\") #... anstonsten nicht\n",
    "\n",
    "    \n",
    "    return dataFrames   #Rückgabe der eingelesenen Date als DataFrame"
   ]
  },
  {
   "cell_type": "code",
   "execution_count": 28,
   "metadata": {},
   "outputs": [
    {
     "name": "stdout",
     "output_type": "stream",
     "text": [
      "Data für 2023 loaded succsessfully.\n",
      "{2023:                     Datum  Gesamtverbrauch  Residuallast  Pumpspeicher\n",
      "0     2023-01-01 00:00:00          9673.00       1842.50        482.00\n",
      "1     2023-01-01 00:15:00          9593.50       1691.50        469.25\n",
      "2     2023-01-01 00:30:00          9562.00       1442.50        546.25\n",
      "3     2023-01-01 00:45:00          9517.50       1598.50        525.50\n",
      "4     2023-01-01 01:00:00          9433.25       1325.50        192.75\n",
      "...                   ...              ...           ...           ...\n",
      "35035 2023-12-31 22:45:00         10780.75       1706.75        373.50\n",
      "35036 2023-12-31 23:00:00         10752.25       1701.00        426.50\n",
      "35037 2023-12-31 23:15:00         10605.50       1610.25        476.75\n",
      "35038 2023-12-31 23:30:00         10494.25       1470.25        468.25\n",
      "35039 2023-12-31 23:45:00         10288.00       1338.00        540.75\n",
      "\n",
      "[35040 rows x 4 columns]}\n"
     ]
    }
   ],
   "source": [
    "energy_consumption = getData();\n",
    "print(energy_consumption)"
   ]
  }
 ],
 "metadata": {
  "kernelspec": {
   "display_name": "base",
   "language": "python",
   "name": "python3"
  },
  "language_info": {
   "codemirror_mode": {
    "name": "ipython",
    "version": 3
   },
   "file_extension": ".py",
   "mimetype": "text/x-python",
   "name": "python",
   "nbconvert_exporter": "python",
   "pygments_lexer": "ipython3",
   "version": "3.12.4"
  }
 },
 "nbformat": 4,
 "nbformat_minor": 2
}
