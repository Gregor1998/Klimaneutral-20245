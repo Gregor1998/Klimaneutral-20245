{
 "cells": [
  {
   "cell_type": "code",
   "execution_count": 208,
   "metadata": {},
   "outputs": [],
   "source": [
    "import numpy as np # type: ignore\n",
    "import pandas as pd # type: ignore\n",
    "import seaborn as sns # type: ignore\n",
    "import matplotlib.pyplot as plt # type: ignore\n",
    "import os"
   ]
  },
  {
   "cell_type": "code",
   "execution_count": 209,
   "metadata": {},
   "outputs": [],
   "source": [
    "#Variables\n",
    "consumption_development_rate = 1.5 # increases by 1.5% per year"
   ]
  },
  {
   "cell_type": "code",
   "execution_count": 210,
   "metadata": {},
   "outputs": [],
   "source": [
    "def addTimeInformation(df):\n",
    "    df['Year'] = df['Datum'].dt.strftime('%Y')\n",
    "    \"\"\"\n",
    "    df['Time'] = df['Datum'].dt.time\n",
    "    df['Month'] = df['Datum'].dt.strftime('%b')\n",
    "    df['Year Month'] = df['Datum'].dt.strftime('%Y %m')\n",
    "    df['Year Month Day'] = df['Datum'].dt.strftime('%Y %m %d')\n",
    "    df['Day'] = df['Datum'].dt.strftime('%d')\n",
    "    df['Weekday'] = df['Datum'].dt.strftime('%u')\n",
    "    df['Week'] = df['Datum'].dt.strftime('%W')\n",
    "    \"\"\"\n",
    "    return df"
   ]
  },
  {
   "cell_type": "code",
   "execution_count": 211,
   "metadata": {},
   "outputs": [],
   "source": [
    "def read_SMARD_data(path):\n",
    "    df = pd.read_csv(path,delimiter= ';', thousands='.', decimal=',', dayfirst =\"True\") #, parse_dates=[[0,1]]\n",
    "\n",
    "    #Herauslöschen der Spalte Datum bis, da diese keine zusätzlichen Informationen bietet\n",
    "    df.drop(columns=[\"Datum bis\"], inplace=True)\n",
    "\n",
    "    #Umbenennung der Spalten\n",
    "    df.rename(columns= {\n",
    "        \"Datum von\":\"Datum\",\n",
    "        \"Gesamt (Netzlast) [MWh] Originalauflösungen\":\"Gesamtverbrauch\",\n",
    "        \"Residuallast [MWh] Originalauflösungen\":\"Residuallast\",\n",
    "        \"Pumpspeicher [MWh] Originalauflösungen\":\"Pumpspeicher\",  \n",
    "    }, inplace = True)\n",
    "\n",
    "    #Formatierung der Datumstpalte\n",
    "    df['Datum'] = pd.to_datetime(df['Datum'], format= '%d.%m.%Y %H:%M')\n",
    "    addTimeInformation(df)\n",
    "\n",
    "    print(df.head())\n",
    "\n",
    "    \n",
    "    return df"
   ]
  },
  {
   "cell_type": "code",
   "execution_count": 212,
   "metadata": {},
   "outputs": [],
   "source": [
    "def getData():\n",
    "    dataFrames = {} # Dictionary für die df für jedes Jahr\n",
    "    path_var = \"CSV/Verbrauch/\" #Pfad auf den Ordner, um später durch die Datein zu navigieren\n",
    "\n",
    "    #Schleife für die Jahre 2015-2023 und Einlesen der Datei\n",
    "    for year in range(2023,2024): # hier könnte man später sich die Jahre auch vom User geben lassen, welche Jahre er gerne eingelesen haben möchte\n",
    "        #Dateipfad für das entsprechende Jahr\n",
    "        file_path = os.path.join(path_var, f\"Realisierter_Stromverbrauch_{year}01010000_{year+1}01010000_Viertelstunde.csv\")\n",
    "        if os.path.exists(file_path):   #Falls dieser zusammengesetze Pfad existiert,...\n",
    "            dataFrames[year] = read_SMARD_data(file_path)   #... soll dieser eingelesen werden\n",
    "            print(f\"Data für {year} loaded succsessfully.\")\n",
    "        else:\n",
    "            print(f\"File for {year} not found at path: {file_path}\") #... anstonsten nicht\n",
    "\n",
    "    \n",
    "    return dataFrames   #Rückgabe der eingelesenen Date als DataFrame"
   ]
  },
  {
   "cell_type": "code",
   "execution_count": 213,
   "metadata": {},
   "outputs": [],
   "source": [
    "class Extrapolation: #Erstellt ein Objekt, welches ein DataFrame mitbekommt, und bestimmte werte aus diesen DataFrame Multipliziert\n",
    "    def __init__ (self, df, factor, year):\n",
    "        self.df = df\n",
    "        self.factor = factor\n",
    "        self.year = year\n",
    "\n",
    "        self.multiply()\n",
    "        self.update_year()\n",
    "        #addTimeInformation(self.df)\n",
    "\n",
    "    def multiply(self):\n",
    "        self.df[\"Gesamtverbrauch\"] = self.df[\"Gesamtverbrauch\"] * self.factor\n",
    "\n",
    "    def update_year(self):\n",
    "        # Ändern der Jahreskomponente in der \"Datum\"-Spalte\n",
    "        self.df[\"Datum\"] = self.df[\"Datum\"].apply(lambda x: x.replace(year=self.year))\n",
    "        self.df[\"Year\"] = self.year"
   ]
  },
  {
   "cell_type": "code",
   "execution_count": 214,
   "metadata": {},
   "outputs": [],
   "source": [
    "def combineDataFrames(directory, startYear, endYear): #Funktion, die alle DataFrames aus dem jährlichen Verzeichnis zusammenführt\n",
    "    filterdDirectory = {year: df for year, df in directory.items() if startYear <= year <= endYear} #Zusammenführung der dataFrames aus dem Dictionary zwischen den angegebenen Jahren und Speicherung in ein vorläufiges df\n",
    "    combined_df = pd.concat(filterdDirectory.values()) #zusammenführung der Daten der gewünschten Jahre\n",
    "    combined_df['Datum'] = pd.to_datetime(combined_df['Datum'], format='%d.%m.%Y %H:%M') #Formatierung der Datum Spalte in DateTime\n",
    "    addTimeInformation(combined_df)\n",
    "    return combined_df"
   ]
  },
  {
   "cell_type": "code",
   "execution_count": 215,
   "metadata": {},
   "outputs": [
    {
     "name": "stdout",
     "output_type": "stream",
     "text": [
      "                Datum  Gesamtverbrauch  Residuallast  Pumpspeicher  Year\n",
      "0 2023-01-01 00:00:00          9673.00        1842.5        482.00  2023\n",
      "1 2023-01-01 00:15:00          9593.50        1691.5        469.25  2023\n",
      "2 2023-01-01 00:30:00          9562.00        1442.5        546.25  2023\n",
      "3 2023-01-01 00:45:00          9517.50        1598.5        525.50  2023\n",
      "4 2023-01-01 01:00:00          9433.25        1325.5        192.75  2023\n",
      "Data für 2023 loaded succsessfully.\n"
     ]
    }
   ],
   "source": [
    "directory_yearly_consumption = getData()\n",
    "\n",
    "for year in range(2024,2031):\n",
    "    prev_year_df =directory_yearly_consumption.get(year-1).copy()    #Kopie des Dataframe des letzten Jahres\n",
    "    extrapolated_data = Extrapolation(prev_year_df,consumption_development_rate,year)        #Erstellung eines neuen Objekts, mit einem DataFrame\n",
    "    directory_yearly_consumption[extrapolated_data.year]= extrapolated_data.df   #DataFrame in das Erzeugungsverzeichnis gespeichert wird\n",
    "\n",
    "consumption_extrapolation = combineDataFrames(directory_yearly_consumption,2023,2031)"
   ]
  },
  {
   "cell_type": "code",
   "execution_count": 216,
   "metadata": {},
   "outputs": [
    {
     "name": "stdout",
     "output_type": "stream",
     "text": [
      "[4.58374230e+08 6.87561344e+08 1.03134202e+09 1.54701302e+09\n",
      " 2.32051954e+09 3.48077931e+09 5.22116896e+09 7.83175344e+09]\n"
     ]
    },
    {
     "data": {
      "image/png": "[encoded data removed]",
      "text/plain": [
       "<Figure size 1000x600 with 1 Axes>"
      ]
     },
     "metadata": {},
     "output_type": "display_data"
    }
   ],
   "source": [
    "# Gruppieren nach Jahr und Berechnen der Summe der Spalte 'gesamtverbrauch'\n",
    "yearly_totals = consumption_extrapolation.groupby('Year')['Gesamtverbrauch'].sum()\n",
    "#print(consumption_extrapolation.columns)\n",
    "\n",
    "# Umwandeln der Ergebnisse in ein Array\n",
    "yearly_totals_array = yearly_totals.values\n",
    "\n",
    "print(yearly_totals_array)\n",
    "\n",
    "# Erstellen des Liniendiagramms\n",
    "plt.figure(figsize=(10, 6))\n",
    "plt.plot(yearly_totals.index, yearly_totals.values, marker='o', linestyle='-', color='b')\n",
    "\n",
    "# Achsenbeschriftungen und Titel hinzufügen\n",
    "plt.xlabel('Jahr')\n",
    "plt.ylabel('Gesamtverbrauch')\n",
    "plt.title('Jährlicher Gesamtverbrauch')\n",
    "plt.grid(True)\n",
    "\n",
    "# Diagramm anzeigen\n",
    "plt.show()"
   ]
  },
  {
   "cell_type": "code",
   "execution_count": 217,
   "metadata": {},
   "outputs": [
    {
     "name": "stdout",
     "output_type": "stream",
     "text": [
      "                    Datum  Gesamtverbrauch  Residuallast  Pumpspeicher  Year\n",
      "0     2030-01-01 00:00:00    165272.273438       1842.50        482.00  2030\n",
      "1     2030-01-01 00:15:00    163913.941406       1691.50        469.25  2030\n",
      "2     2030-01-01 00:30:00    163375.734375       1442.50        546.25  2030\n",
      "3     2030-01-01 00:45:00    162615.410156       1598.50        525.50  2030\n",
      "4     2030-01-01 01:00:00    161175.919922       1325.50        192.75  2030\n",
      "...                   ...              ...           ...           ...   ...\n",
      "35035 2030-12-31 22:45:00    184199.220703       1706.75        373.50  2030\n",
      "35036 2030-12-31 23:00:00    183712.271484       1701.00        426.50  2030\n",
      "35037 2030-12-31 23:15:00    181204.910156       1610.25        476.75  2030\n",
      "35038 2030-12-31 23:30:00    179304.099609       1470.25        468.25  2030\n",
      "35039 2030-12-31 23:45:00    175780.125000       1338.00        540.75  2030\n",
      "\n",
      "[35040 rows x 5 columns]\n"
     ]
    }
   ],
   "source": [
    "#print(consumption_extrapolation)\n",
    "consumption_2030 = directory_yearly_consumption[2030]\n",
    "print(consumption_2030)"
   ]
  }
 ],
 "metadata": {
  "kernelspec": {
   "display_name": "base",
   "language": "python",
   "name": "python3"
  },
  "language_info": {
   "codemirror_mode": {
    "name": "ipython",
    "version": 3
   },
   "file_extension": ".py",
   "mimetype": "text/x-python",
   "name": "python",
   "nbconvert_exporter": "python",
   "pygments_lexer": "ipython3",
   "version": "3.12.4"
  }
 },
 "nbformat": 4,
 "nbformat_minor": 2
}
