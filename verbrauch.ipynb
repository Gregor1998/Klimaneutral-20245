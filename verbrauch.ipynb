{
 "cells": [
  {
   "cell_type": "code",
   "execution_count": 6,
   "metadata": {},
   "outputs": [],
   "source": [
    "import numpy as np # type: ignore\n",
    "import pandas as pd # type: ignore\n",
    "import seaborn as sns # type: ignore\n",
    "import matplotlib.pyplot as plt # type: ignore\n",
    "import os\n",
    "\n",
    "# eigne Funktionen\n",
    "from utils.addTimeInformation import addTimeInformation\n",
    "from utils.combineDataFrames import combineDataFrames\n",
    "from utils.read_CSV import read_SMARD_data\n",
    "from utils.read_CSV import getData\n",
    "from utils.extraploation_class import Extrapolation\n",
    "from utils.calculateConsumption import calculateConsumption, getConsumptionYear"
   ]
  },
  {
   "cell_type": "code",
   "execution_count": 7,
   "metadata": {},
   "outputs": [],
   "source": [
    "#Variables\n",
    "consumption_development_rate = 1.05 # increases by 5% per year"
   ]
  },
  {
   "cell_type": "code",
   "execution_count": 8,
   "metadata": {},
   "outputs": [
    {
     "data": {
      "text/plain": [
       "'\\ndirectory_yearly_consumption = getData(\"Verbrauch\")\\n\\nfor year in range(2024,2031):\\n    prev_year_df =directory_yearly_consumption.get(year-1).copy()    #Kopie des Dataframe des letzten Jahres\\n    extrapolated_data = Extrapolation(prev_year_df, year, None, None, None, consumption_development_rate)        #Erstellung eines neuen Objekts, mit einem DataFrame\\n    directory_yearly_consumption[extrapolated_data.year]= extrapolated_data.df   #DataFrame in das Erzeugungsverzeichnis gespeichert wird\\n\\nconsumption_extrapolation = combineDataFrames(directory_yearly_consumption,2023,2031)\\n'"
      ]
     },
     "execution_count": 8,
     "metadata": {},
     "output_type": "execute_result"
    }
   ],
   "source": [
    "\"\"\"\n",
    "directory_yearly_consumption = getData(\"Verbrauch\")\n",
    "\n",
    "for year in range(2024,2031):\n",
    "    prev_year_df =directory_yearly_consumption.get(year-1).copy()    #Kopie des Dataframe des letzten Jahres\n",
    "    extrapolated_data = Extrapolation(prev_year_df, year, None, None, None, consumption_development_rate)        #Erstellung eines neuen Objekts, mit einem DataFrame\n",
    "    directory_yearly_consumption[extrapolated_data.year]= extrapolated_data.df   #DataFrame in das Erzeugungsverzeichnis gespeichert wird\n",
    "\n",
    "consumption_extrapolation = combineDataFrames(directory_yearly_consumption,2023,2031)\n",
    "\"\"\"\n",
    "\n",
    "\n",
    "\n"
   ]
  },
  {
   "cell_type": "code",
   "execution_count": 9,
   "metadata": {},
   "outputs": [
    {
     "name": "stdout",
     "output_type": "stream",
     "text": [
      "Data für 2023 loaded succsessfully.\n",
      "Index(['Datum', 'Gesamtverbrauch', 'Residuallast', 'Pumpspeicher', 'Time',\n",
      "       'Month', 'Year Month', 'Year Month Day', 'Day', 'Year', 'Weekday',\n",
      "       'Week'],\n",
      "      dtype='object')\n"
     ]
    }
   ],
   "source": [
    "consume = calculateConsumption(consumption_development_rate)\n",
    "consumption_extrapolation = combineDataFrames(consume,2023,2031)\n",
    "\n",
    "# Gruppieren nach Jahr und Berechnen der Summe der Spalte 'gesamtverbrauch'\n",
    "yearly_totals = consumption_extrapolation.groupby('Year')['Gesamtverbrauch'].sum()\n",
    "print(consumption_extrapolation.columns)\n",
    "\n",
    "# Umwandeln der Ergebnisse in ein Array\n",
    "yearly_totals_array = yearly_totals.values\n",
    "\n",
    "#print(yearly_totals_array)\n",
    "\n",
    "# Erstellen des Liniendiagramms\n",
    "#plt.figure(figsize=(10, 6))\n",
    "#plt.plot(yearly_totals.index, yearly_totals.values, marker='o', linestyle='-', color='b')\n",
    "\n",
    "# Achsenbeschriftungen und Titel hinzufügen\n",
    "#plt.xlabel('Jahr')\n",
    "#plt.ylabel('Gesamtverbrauch')\n",
    "#plt.title('Jährlicher Gesamtverbrauch')\n",
    "#plt.grid(True)\n",
    "\n",
    "# Diagramm anzeigen\n",
    "#plt.show()"
   ]
  },
  {
   "cell_type": "code",
   "execution_count": 10,
   "metadata": {},
   "outputs": [
    {
     "name": "stdout",
     "output_type": "stream",
     "text": [
      "None\n"
     ]
    }
   ],
   "source": [
    "#consumption_2030 = directory_yearly_consumption[2030]\n",
    "consumption_2030 = getConsumptionYear(2030, consumption_extrapolation)\n",
    "\n",
    "print(consumption_2030)"
   ]
  }
 ],
 "metadata": {
  "kernelspec": {
   "display_name": "base",
   "language": "python",
   "name": "python3"
  },
  "language_info": {
   "codemirror_mode": {
    "name": "ipython",
    "version": 3
   },
   "file_extension": ".py",
   "mimetype": "text/x-python",
   "name": "python",
   "nbconvert_exporter": "python",
   "pygments_lexer": "ipython3",
   "version": "3.12.4"
  }
 },
 "nbformat": 4,
 "nbformat_minor": 2
}
