{
 "cells": [
  {
   "cell_type": "markdown",
   "id": "5b1b68fb",
   "metadata": {
    "tags": [
     "papermill-error-cell-tag"
    ]
   },
   "source": [
    "<span style=\"color:red; font-family:Helvetica Neue, Helvetica, Arial, sans-serif; font-size:2em;\">An Exception was encountered at '<a href=\"#papermill-error-cell\">In [4]</a>'.</span>"
   ]
  },
  {
   "cell_type": "code",
   "execution_count": 1,
   "id": "14c5f483",
   "metadata": {
    "execution": {
     "iopub.execute_input": "2025-01-12T00:24:20.370199Z",
     "iopub.status.busy": "2025-01-12T00:24:20.369654Z",
     "iopub.status.idle": "2025-01-12T00:24:20.374909Z",
     "shell.execute_reply": "2025-01-12T00:24:20.374538Z"
    },
    "papermill": {
     "duration": 0.0166,
     "end_time": "2025-01-12T00:24:20.376364",
     "exception": false,
     "start_time": "2025-01-12T00:24:20.359764",
     "status": "completed"
    },
    "tags": [
     "injected-parameters"
    ]
   },
   "outputs": [],
   "source": [
    "# Parameters\n",
    "onshore_development_rate = 1.104\n",
    "offshore_development_rate = 1.232\n",
    "pv_development_rate = 1.169\n",
    "CO2_factor_Kohle = 0.35\n",
    "CO2_factor_Gas = 0.2\n",
    "share_coal = 0.58974\n",
    "share_gas = 0.41026\n",
    "IST_installierte_waermepumpen = 1400000.0\n",
    "SOLL_installierte_waermepumpen = 5999000.0\n",
    "netzverluste = 0.95279\n",
    "consumption_development_per_year = {\n",
    "    \"2024\": 1.080071866,\n",
    "    \"2025\": 1.074135684,\n",
    "    \"2026\": 1.069018919,\n",
    "    \"2027\": 1.06456286,\n",
    "    \"2028\": 1.060647297,\n",
    "    \"2029\": 1.057179514,\n",
    "    \"2030\": 1.054082351,\n",
    "}\n"
   ]
  },
  {
   "cell_type": "code",
   "execution_count": 2,
   "id": "6d5611bd",
   "metadata": {
    "execution": {
     "iopub.execute_input": "2025-01-12T00:24:20.387395Z",
     "iopub.status.busy": "2025-01-12T00:24:20.387150Z",
     "iopub.status.idle": "2025-01-12T00:24:20.398155Z",
     "shell.execute_reply": "2025-01-12T00:24:20.397839Z"
    },
    "papermill": {
     "duration": 0.017357,
     "end_time": "2025-01-12T00:24:20.399302",
     "exception": false,
     "start_time": "2025-01-12T00:24:20.381945",
     "status": "completed"
    },
    "tags": []
   },
   "outputs": [],
   "source": [
    "%load_ext autoreload\n",
    "\n",
    "%autoreload 2"
   ]
  },
  {
   "cell_type": "markdown",
   "id": "b087693d",
   "metadata": {
    "papermill": {
     "duration": 0.003305,
     "end_time": "2025-01-12T00:24:20.406594",
     "exception": false,
     "start_time": "2025-01-12T00:24:20.403289",
     "status": "completed"
    },
    "tags": []
   },
   "source": [
    "# V2\n",
    "## Szenario-basierte Berechnungen für Energieverbrauchs- und Erzeugungsentwicklung bis 2030\n",
    "\n",
    "In diesem Notebook führen wir Szenario-basierte Berechnungen für die Entwicklung von Energieverbrauch und -produktion durch."
   ]
  },
  {
   "cell_type": "markdown",
   "id": "4466c636",
   "metadata": {
    "papermill": {
     "duration": 0.003212,
     "end_time": "2025-01-12T00:24:20.412759",
     "exception": false,
     "start_time": "2025-01-12T00:24:20.409547",
     "status": "completed"
    },
    "tags": []
   },
   "source": [
    "## Importieren der Bibliotheken\n",
    "\n",
    "Wir beginnen mit dem Importieren der erforderlichen Bibliotheken, einschließlich `pandas` für die Datenverarbeitung und `matplotlib` für die Visualisierung."
   ]
  },
  {
   "cell_type": "code",
   "execution_count": 3,
   "id": "32bc8a5b",
   "metadata": {
    "execution": {
     "iopub.execute_input": "2025-01-12T00:24:20.418639Z",
     "iopub.status.busy": "2025-01-12T00:24:20.418510Z",
     "iopub.status.idle": "2025-01-12T00:24:21.402112Z",
     "shell.execute_reply": "2025-01-12T00:24:21.401752Z"
    },
    "papermill": {
     "duration": 0.987668,
     "end_time": "2025-01-12T00:24:21.403157",
     "exception": false,
     "start_time": "2025-01-12T00:24:20.415489",
     "status": "completed"
    },
    "tags": []
   },
   "outputs": [],
   "source": [
    "import numpy as np # type: ignore\n",
    "import pandas as pd # type: ignore\n",
    "import seaborn as sns # type: ignore\n",
    "import matplotlib.pyplot as plt # type: ignore\n",
    "import os\n",
    "from pathlib import Path\n",
    "from datetime import datetime"
   ]
  },
  {
   "cell_type": "markdown",
   "id": "06950de1",
   "metadata": {
    "papermill": {
     "duration": 0.002425,
     "end_time": "2025-01-12T00:24:21.408579",
     "exception": false,
     "start_time": "2025-01-12T00:24:21.406154",
     "status": "completed"
    },
    "tags": []
   },
   "source": [
    "### selbstgeschriebene Utils\n",
    "Für bessere Übersicht wurden Funktionen in Python-Skripte ausgelagert und werden hier importiert, damit sie später im Code aufgerufen werden können."
   ]
  },
  {
   "cell_type": "markdown",
   "id": "99484540",
   "metadata": {
    "tags": [
     "papermill-error-cell-tag"
    ]
   },
   "source": [
    "<span id=\"papermill-error-cell\" style=\"color:red; font-family:Helvetica Neue, Helvetica, Arial, sans-serif; font-size:2em;\">Execution using papermill encountered an exception here and stopped:</span>"
   ]
  },
  {
   "cell_type": "code",
   "execution_count": 4,
   "id": "70d29c60",
   "metadata": {
    "execution": {
     "iopub.execute_input": "2025-01-12T00:24:21.413409Z",
     "iopub.status.busy": "2025-01-12T00:24:21.413252Z",
     "iopub.status.idle": "2025-01-12T00:24:21.663043Z",
     "shell.execute_reply": "2025-01-12T00:24:21.662603Z"
    },
    "papermill": {
     "duration": 0.253041,
     "end_time": "2025-01-12T00:24:21.663676",
     "exception": true,
     "start_time": "2025-01-12T00:24:21.410635",
     "status": "failed"
    },
    "tags": []
   },
   "outputs": [
    {
     "ename": "ModuleNotFoundError",
     "evalue": "No module named 'utils'",
     "output_type": "error",
     "traceback": [
      "\u001b[0;31m---------------------------------------------------------------------------\u001b[0m",
      "\u001b[0;31mModuleNotFoundError\u001b[0m                       Traceback (most recent call last)",
      "Cell \u001b[0;32mIn[4], line 3\u001b[0m\n\u001b[1;32m      1\u001b[0m \u001b[38;5;66;03m# eigene Utils\u001b[39;00m\n\u001b[0;32m----> 3\u001b[0m \u001b[38;5;28;01mfrom\u001b[39;00m \u001b[38;5;21;01mutils\u001b[39;00m\u001b[38;5;21;01m.\u001b[39;00m\u001b[38;5;21;01mtemperature\u001b[39;00m \u001b[38;5;28;01mimport\u001b[39;00m temperatureRegion\n\u001b[1;32m      4\u001b[0m \u001b[38;5;28;01mfrom\u001b[39;00m \u001b[38;5;21;01mutils\u001b[39;00m\u001b[38;5;21;01m.\u001b[39;00m\u001b[38;5;21;01maddTimeInformation\u001b[39;00m \u001b[38;5;28;01mimport\u001b[39;00m addTimeInformation\n\u001b[1;32m      5\u001b[0m \u001b[38;5;28;01mfrom\u001b[39;00m \u001b[38;5;21;01mutils\u001b[39;00m\u001b[38;5;21;01m.\u001b[39;00m\u001b[38;5;21;01mcombineDataFrames\u001b[39;00m \u001b[38;5;28;01mimport\u001b[39;00m combineDataFrames\n",
      "\u001b[0;31mModuleNotFoundError\u001b[0m: No module named 'utils'"
     ]
    }
   ],
   "source": [
    "# eigene Utils\n",
    "\n",
    "from utils.temperature import temperatureRegion\n",
    "from utils.addTimeInformation import addTimeInformation\n",
    "from utils.combineDataFrames import combineDataFrames\n",
    "from utils.extraploation_class import Extrapolation\n",
    "from utils.plotCalendarHeatmap import plotCalendarHeatmap\n",
    "from utils.read_CSV import *\n",
    "from utils.calcDifference_storage_flexpowerplant import differenceBetweenDataframes\n",
    "from utils.calculateConsumption import calculateConsumption, getConsumptionYear, calculateConsumption_lastprofile\n",
    "from utils.plotResidualDiagram import plotResidualDiagram\n",
    "from utils.plotWeekDiagram import plotWeekDiagramm, create_week_comparison\n",
    "from utils.determinePerformanceSzenarios import determinePerformanceSzenarios\n",
    "from utils.performance_factors import performance_factors\n",
    "from utils.addTimePerformance import addTimePerformance\n",
    "from utils.dunkelflautePerformanceFactor import dunkelflautePerformanceFactor\n",
    "from utils.load_profile_heat_pump import heatpump_Region\n",
    "from utils.calculate_future_generation import calculate_future_generation\n",
    "from utils.cleanse_dataframes import cleanse_dataframes\n",
    "\n",
    "def convert_keys_to_int(d):\n",
    "    \"\"\"Recursively convert dictionary keys to integers if possible.\"\"\"\n",
    "    if isinstance(d, dict):\n",
    "        return {int(k) if k.isdigit() else k: convert_keys_to_int(v) for k, v in d.items()}\n",
    "    return d\n",
    "\n",
    "\n",
    "consumption_development_per_year = {int(year): value for year, value in consumption_development_per_year.items()}\n",
    "\n",
    "print(consumption_development_per_year)\n"
   ]
  },
  {
   "cell_type": "markdown",
   "id": "de846201",
   "metadata": {
    "papermill": {
     "duration": null,
     "end_time": null,
     "exception": null,
     "start_time": null,
     "status": "pending"
    },
    "tags": []
   },
   "source": [
    "## Szenarien-Definition\n",
    "Das Programm rechnet mit Variablen für `Verbrauchsentwicklung`, `PV-Leistung`, `Wind-Leistung (Onshore)` und `Windleistung (Onshore)`\n",
    "\n",
    "Zu Beginn wird festgelegt, welches Szenario gerechnet werden soll, je nachdem werden die eben genannten Variablen festgesetzt. Die Werte für die Szenarien wurden aus den Big5-Studien ermittelt."
   ]
  },
  {
   "cell_type": "code",
   "execution_count": null,
   "id": "3a437922",
   "metadata": {
    "execution": {
     "iopub.execute_input": "2025-01-12T00:22:46.110701Z",
     "iopub.status.busy": "2025-01-12T00:22:46.110553Z",
     "iopub.status.idle": "2025-01-12T00:22:46.122477Z",
     "shell.execute_reply": "2025-01-12T00:22:46.122249Z"
    },
    "papermill": {
     "duration": null,
     "end_time": null,
     "exception": null,
     "start_time": null,
     "status": "pending"
    },
    "tags": []
   },
   "outputs": [],
   "source": [
    "# OLD Faktoren, Variablen\n",
    "#from szenarioDefinition.szenario import *"
   ]
  },
  {
   "cell_type": "markdown",
   "id": "002ec01a",
   "metadata": {
    "papermill": {
     "duration": null,
     "end_time": null,
     "exception": null,
     "start_time": null,
     "status": "pending"
    },
    "tags": []
   },
   "source": [
    "## CSV einlesen (Erzeugung)\n",
    "Wir lesen die SMARD-Daten für realisierte Erzeugung (2015-2023).\n",
    "Ist das abgeschlossen, werden die Daten ab 2024 bis 2030 extrapoliert und in einem Dataframe gespeichert, dass Daten für alle Jahre enthält."
   ]
  },
  {
   "cell_type": "code",
   "execution_count": null,
   "id": "b3de4479",
   "metadata": {
    "execution": {
     "iopub.execute_input": "2025-01-12T00:22:46.133707Z",
     "iopub.status.busy": "2025-01-12T00:22:46.133598Z",
     "iopub.status.idle": "2025-01-12T00:22:47.072311Z",
     "shell.execute_reply": "2025-01-12T00:22:47.072044Z"
    },
    "papermill": {
     "duration": null,
     "end_time": null,
     "exception": null,
     "start_time": null,
     "status": "pending"
    },
    "tags": []
   },
   "outputs": [],
   "source": [
    "#alle Daten ab 2015 einlesen\n",
    "directory_yearly_generation = getData(\"Generation\")"
   ]
  },
  {
   "cell_type": "markdown",
   "id": "3da2bb68",
   "metadata": {
    "papermill": {
     "duration": null,
     "end_time": null,
     "exception": null,
     "start_time": null,
     "status": "pending"
    },
    "tags": []
   },
   "source": [
    "## PerformanceFaktoren(2015-2023):\n",
    "\n",
    "Erstellung von Performance Faktoren um Wetterabhängigkeit zu implementiern und erzeugte Energie anhand der Installierten Leistung abzuleiten\n"
   ]
  },
  {
   "cell_type": "code",
   "execution_count": null,
   "id": "9bbecdff",
   "metadata": {
    "execution": {
     "iopub.execute_input": "2025-01-12T00:22:47.085479Z",
     "iopub.status.busy": "2025-01-12T00:22:47.085325Z",
     "iopub.status.idle": "2025-01-12T00:22:50.234674Z",
     "shell.execute_reply": "2025-01-12T00:22:50.234437Z"
    },
    "papermill": {
     "duration": null,
     "end_time": null,
     "exception": null,
     "start_time": null,
     "status": "pending"
    },
    "tags": []
   },
   "outputs": [],
   "source": [
    "\n",
    "directory_yearly_installed = getData(\"Installed\")\n",
    "directory_yearly_performance = performance_factors(directory_yearly_generation, directory_yearly_installed)\n",
    "directory_szenarios=determinePerformanceSzenarios(directory_yearly_performance)\n",
    "directory_szenarios[\"BestCase\"].to_csv(\"CSV/Performance_factors/cases/BestCase.csv\")\n",
    "directory_szenarios[\"WorstCase\"].to_csv(\"CSV/Performance_factors/cases/WorstCase.csv\")\n",
    "directory_szenarios[\"BestCase\"]= addTimePerformance(directory_szenarios[\"BestCase\"], 2030)\n",
    "dunkelflautePerformanceFactor(directory_yearly_performance)\n"
   ]
  },
  {
   "cell_type": "markdown",
   "id": "9e2e5031",
   "metadata": {
    "papermill": {
     "duration": null,
     "end_time": null,
     "exception": null,
     "start_time": null,
     "status": "pending"
    },
    "tags": []
   },
   "source": [
    "## Erzeugung hochrechnen"
   ]
  },
  {
   "cell_type": "code",
   "execution_count": null,
   "id": "3c8646b0",
   "metadata": {
    "execution": {
     "iopub.execute_input": "2025-01-12T00:22:50.246135Z",
     "iopub.status.busy": "2025-01-12T00:22:50.246018Z",
     "iopub.status.idle": "2025-01-12T00:22:50.569163Z",
     "shell.execute_reply": "2025-01-12T00:22:50.568879Z"
    },
    "papermill": {
     "duration": null,
     "end_time": null,
     "exception": null,
     "start_time": null,
     "status": "pending"
    },
    "tags": []
   },
   "outputs": [],
   "source": [
    "directory_yearly_generation.update(calculate_future_generation(\"best_case\", \"best_case\", \"best_case\", directory_szenarios[\"BestCase\"], directory_yearly_generation[2023]))\n"
   ]
  },
  {
   "cell_type": "markdown",
   "id": "ba275348",
   "metadata": {
    "papermill": {
     "duration": null,
     "end_time": null,
     "exception": null,
     "start_time": null,
     "status": "pending"
    },
    "tags": []
   },
   "source": [
    "## Erzeugung 2030 (Gesamt)\n",
    "\n",
    "Wir erstellen ein neues Dataframe nur für 2030, das nun zusätzlich auch die Gesamtsumme der EE-Erzeugung enthält (15-Min-AUflösung)."
   ]
  },
  {
   "cell_type": "code",
   "execution_count": null,
   "id": "41b8dc53",
   "metadata": {
    "execution": {
     "iopub.execute_input": "2025-01-12T00:22:50.581658Z",
     "iopub.status.busy": "2025-01-12T00:22:50.581512Z",
     "iopub.status.idle": "2025-01-12T00:22:50.597426Z",
     "shell.execute_reply": "2025-01-12T00:22:50.597055Z"
    },
    "papermill": {
     "duration": null,
     "end_time": null,
     "exception": null,
     "start_time": null,
     "status": "pending"
    },
    "tags": []
   },
   "outputs": [],
   "source": [
    "# Lade die Daten für das Jahr 2030\n",
    "df_2030 = directory_yearly_generation.get(2030)\n",
    "\n",
    "# Überprüfe, ob die Spalten vorhanden sind\n",
    "required_columns = ['Wind Offshore', 'Wind Onshore', 'Photovoltaik']\n",
    "if all(column in df_2030.columns for column in required_columns):\n",
    "    # Berechne die Summe der gewünschten Spalten für jede 15-Minuten-Periode\n",
    "    df_2030['Gesamterzeugung_EE'] = df_2030[required_columns].sum(axis=1)\n",
    "    \n",
    "    # Speichere die Ergebnisse in production_2030\n",
    "    production_2030 = df_2030[['Datum', 'Gesamterzeugung_EE']]\n",
    "    \n",
    "    #print(production_2030)\n",
    "else:\n",
    "    print(\"Eine oder mehrere der erforderlichen Spalten fehlen im DataFrame für 2030.\")"
   ]
  },
  {
   "cell_type": "markdown",
   "id": "00f2a1f7",
   "metadata": {
    "papermill": {
     "duration": null,
     "end_time": null,
     "exception": null,
     "start_time": null,
     "status": "pending"
    },
    "tags": []
   },
   "source": [
    "# Verbrauch 2030 (Gesamt)\n",
    "\n",
    "Wir erstellen ein neues Dataframe nur für 2030, das nun zusätzlich auch den Gesamtverbrauch enthält (15-Min-AUflösung).\n",
    "\n",
    "## Lastprofile Wärmepumpe 2023-2030"
   ]
  },
  {
   "cell_type": "code",
   "execution_count": null,
   "id": "6339c512",
   "metadata": {
    "execution": {
     "iopub.execute_input": "2025-01-12T00:22:50.614997Z",
     "iopub.status.busy": "2025-01-12T00:22:50.614837Z",
     "iopub.status.idle": "2025-01-12T00:23:20.189209Z",
     "shell.execute_reply": "2025-01-12T00:23:20.188641Z"
    },
    "papermill": {
     "duration": null,
     "end_time": null,
     "exception": null,
     "start_time": null,
     "status": "pending"
    },
    "tags": []
   },
   "outputs": [],
   "source": [
    "#directory_heatpump_consumption = load_profile_heatpump(IST_installierte_waermepumpen,SOLL_installierte_waermepumpen,2024,2030)\n",
    "#directory_heatpump_consumption = lastprofil_heatpump(IST_installierte_waermepumpen,SOLL_installierte_waermepumpen,2024,2030,\"AverageCase\")\n",
    "#print(directory_heatpump_consumption[2030])\n",
    "#directory_heatpump_consumption[2024].to_csv(\"Heatpump2024.csv\")\n",
    "#directory_temperature = temperaturetest(\"BestCase\")\n",
    "directory_heatpump = heatpump_Region(IST_installierte_waermepumpen,SOLL_installierte_waermepumpen, 2024, 2030, \"BestCase\")\n"
   ]
  },
  {
   "cell_type": "markdown",
   "id": "a613e1ec",
   "metadata": {
    "papermill": {
     "duration": null,
     "end_time": null,
     "exception": null,
     "start_time": null,
     "status": "pending"
    },
    "tags": []
   },
   "source": [
    "## Lastprofile eAutos"
   ]
  },
  {
   "cell_type": "code",
   "execution_count": null,
   "id": "029a1069",
   "metadata": {
    "execution": {
     "iopub.execute_input": "2025-01-12T00:23:20.204162Z",
     "iopub.status.busy": "2025-01-12T00:23:20.204018Z",
     "iopub.status.idle": "2025-01-12T00:23:51.113203Z",
     "shell.execute_reply": "2025-01-12T00:23:51.112621Z"
    },
    "papermill": {
     "duration": null,
     "end_time": null,
     "exception": null,
     "start_time": null,
     "status": "pending"
    },
    "tags": []
   },
   "outputs": [],
   "source": [
    "lastprofile_dict = {}\n",
    "charging_areas = ['Wohnen', 'Büro', 'Öffentliche_Ladepunkte']\n",
    "# Anzahl eAutos verändert sich jedes Jahr, deshalb auch neue Lastprofile für jedes Jahr bis 2030\n",
    "# 2023 1.4Mio eAutos\n",
    "# jedes Jahr 150 000 mehr eAutos\n",
    "for year in range(2023, 2031):\n",
    "    lastprofile_dict[year] = {}\n",
    "\n",
    "    for area in charging_areas:\n",
    "        lastprofil_workday = pd.read_csv(f'CSV/Lastprofile/eMobilitaet/{year}/{area}/Wochentag.csv', delimiter=';', decimal='.', dayfirst=True)\n",
    "        lastprofil_saturday = pd.read_csv(f'CSV/Lastprofile/eMobilitaet/{year}/{area}/Samstag.csv', delimiter=';', decimal='.', dayfirst=True)\n",
    "        lastprofil_sunday = pd.read_csv(f'CSV/Lastprofile/eMobilitaet/{year}/{area}/Sonntag.csv', delimiter=';', decimal='.', dayfirst=True)\n",
    "\n",
    "        lastprofile_dict[year][area] = {\n",
    "            'workday': lastprofil_workday,\n",
    "            'saturday': lastprofil_saturday,\n",
    "            'sunday': lastprofil_sunday\n",
    "        }\n",
    "\n",
    "\n",
    "#print(lastprofile_dict[2023]['workday'])\n",
    "\n",
    "\n",
    "\n",
    "\n",
    "# zu Hochrechnung übergeben wir die allgemeien Wachstumsrate pro Jahr, die Lastprofile EAutos und die Lastprofile für alle Jahre der Wärmepumpen\n",
    "consumption_existing_years_lastprofile = calculateConsumption_lastprofile(consumption_development_per_year, lastprofile_dict, directory_heatpump)\n"
   ]
  },
  {
   "cell_type": "markdown",
   "id": "07cd457d",
   "metadata": {
    "papermill": {
     "duration": null,
     "end_time": null,
     "exception": null,
     "start_time": null,
     "status": "pending"
    },
    "tags": []
   },
   "source": [
    "## Verbrauch an sich extrapolieren"
   ]
  },
  {
   "cell_type": "code",
   "execution_count": null,
   "id": "ecca165e",
   "metadata": {
    "execution": {
     "iopub.execute_input": "2025-01-12T00:23:51.129820Z",
     "iopub.status.busy": "2025-01-12T00:23:51.129651Z",
     "iopub.status.idle": "2025-01-12T00:23:55.440187Z",
     "shell.execute_reply": "2025-01-12T00:23:55.439827Z"
    },
    "papermill": {
     "duration": null,
     "end_time": null,
     "exception": null,
     "start_time": null,
     "status": "pending"
    },
    "tags": []
   },
   "outputs": [],
   "source": [
    "consumption_existing_years = calculateConsumption(consumption_development_per_year)\n",
    "consumption_2030 = consumption_existing_years.get(2030)"
   ]
  },
  {
   "cell_type": "markdown",
   "id": "607f8aa1",
   "metadata": {
    "papermill": {
     "duration": null,
     "end_time": null,
     "exception": null,
     "start_time": null,
     "status": "pending"
    },
    "tags": []
   },
   "source": [
    "## Wochenvergleich zwischen Verbrauch und Verbrauch+Lastprofile"
   ]
  },
  {
   "cell_type": "code",
   "execution_count": null,
   "id": "8abfc67d",
   "metadata": {
    "execution": {
     "iopub.execute_input": "2025-01-12T00:23:55.452321Z",
     "iopub.status.busy": "2025-01-12T00:23:55.452196Z",
     "iopub.status.idle": "2025-01-12T00:23:55.875374Z",
     "shell.execute_reply": "2025-01-12T00:23:55.875088Z"
    },
    "papermill": {
     "duration": null,
     "end_time": null,
     "exception": null,
     "start_time": null,
     "status": "pending"
    },
    "tags": []
   },
   "outputs": [],
   "source": [
    "selected_week = '22'\n",
    "selected_year = '2030'\n",
    "\n",
    "\n",
    "\n",
    "def get_weekly_consumption(consumption_data, selected_year, selected_week):\n",
    "    # Erstelle einen DataFrame aus dem Dictionary\n",
    "    yearly_consumption = pd.DataFrame.from_dict(consumption_data.get(int(selected_year)))\n",
    "\n",
    "    # Filtere die Daten für die angegebene Woche und das Jahr\n",
    "    week_filtered_data_consumption = yearly_consumption[\n",
    "        (yearly_consumption['Week'] == selected_week)\n",
    "    ]\n",
    "\n",
    "    # Erstelle einen DataFrame nur mit Datum und Gesamtverbrauch\n",
    "    week_consumption_df = week_filtered_data_consumption[['Datum', 'Gesamtverbrauch']]\n",
    "    week_consumption_df.loc[:, 'Datum'] = pd.to_datetime(week_consumption_df['Datum'])\n",
    "\n",
    "    return week_consumption_df\n",
    "\n",
    "\n",
    "# Verwende die Funktion für consumption_existing_years\n",
    "week_consumption_df = get_weekly_consumption(consumption_existing_years, selected_year, selected_week)\n",
    "\n",
    "# Verwende die Funktion für consumption_existing_years_lastprofile\n",
    "week_consumption_df_lp = get_weekly_consumption(consumption_existing_years_lastprofile, selected_year, selected_week)\n",
    "\n",
    "# didirectory_yearly_generation and consumption_existing_years are dicitionaries\n",
    "\n",
    "create_week_comparison(selected_week, selected_year, week_consumption_df, week_consumption_df_lp, \"vergleich_verbrauch_lastprofile\")"
   ]
  },
  {
   "cell_type": "markdown",
   "id": "a9185525",
   "metadata": {
    "papermill": {
     "duration": null,
     "end_time": null,
     "exception": null,
     "start_time": null,
     "status": "pending"
    },
    "tags": []
   },
   "source": [
    "# Differenz bilden\n",
    "\n",
    "Wir bestimmen die Resiudallast als Differenz zwischen Verbrauch und Erzeugung für die 2030-Dataframes.\n",
    "Damit können wir den Anteil nicht-EE-Energie bestimmen an der Gesamtenergieerzeugung, der Anteil soll abnehmen."
   ]
  },
  {
   "cell_type": "code",
   "execution_count": null,
   "id": "6d1f8f14",
   "metadata": {
    "execution": {
     "iopub.execute_input": "2025-01-12T00:23:55.892829Z",
     "iopub.status.busy": "2025-01-12T00:23:55.892641Z",
     "iopub.status.idle": "2025-01-12T00:23:56.102992Z",
     "shell.execute_reply": "2025-01-12T00:23:56.102739Z"
    },
    "papermill": {
     "duration": null,
     "end_time": null,
     "exception": null,
     "start_time": null,
     "status": "pending"
    },
    "tags": []
   },
   "outputs": [],
   "source": [
    "# Bereinigen der DataFrames von Schaltjahren oder Zeitumstellung\n",
    "cleaned_consumption_2030, cleaned_production_2030 = cleanse_dataframes(consumption_2030, production_2030)\n",
    "\n",
    "\n",
    "resdidual_df, _, _, _  = differenceBetweenDataframes(cleaned_consumption_2030, cleaned_production_2030)\n"
   ]
  },
  {
   "cell_type": "markdown",
   "id": "793c15ab",
   "metadata": {
    "papermill": {
     "duration": null,
     "end_time": null,
     "exception": null,
     "start_time": null,
     "status": "pending"
    },
    "tags": []
   },
   "source": [
    "# Auswertung\n",
    "Um die Daten besser zu verstehen, plotten wir verschiedene Diagramme in unterschiedlicher Auflösung (15min - jährlich) für verschiedene Kennzahlen.\n",
    "- Heatmap für ein Jahr\n",
    "- Summenhistogramm für ein Jahr\n",
    "- Residuallast über die Jahre bis 2030\n",
    "- Wochendiagramm für den Vergleich von Verbrauch und Erzeugung"
   ]
  },
  {
   "cell_type": "markdown",
   "id": "4f479414",
   "metadata": {
    "papermill": {
     "duration": null,
     "end_time": null,
     "exception": null,
     "start_time": null,
     "status": "pending"
    },
    "tags": []
   },
   "source": [
    "## HeatMap\n",
    "\n",
    "Für das Jahr 2030 plotten wir eine Heatmap: Grüne Flächen bedeuten eine gute Abdeckung des Verbrauchs durch EE-Energie, rote Flächen zeigen Defizite in der EE-Versorgung."
   ]
  },
  {
   "cell_type": "code",
   "execution_count": null,
   "id": "568c3e66",
   "metadata": {
    "execution": {
     "iopub.execute_input": "2025-01-12T00:23:56.126605Z",
     "iopub.status.busy": "2025-01-12T00:23:56.126461Z",
     "iopub.status.idle": "2025-01-12T00:23:56.390920Z",
     "shell.execute_reply": "2025-01-12T00:23:56.390640Z"
    },
    "papermill": {
     "duration": null,
     "end_time": null,
     "exception": null,
     "start_time": null,
     "status": "pending"
    },
    "tags": []
   },
   "outputs": [],
   "source": [
    "plotCalendarHeatmap(resdidual_df, \"Überschüssige/Restbedarf Energie\", \"Differenz in MWh\", linewidths = 0)"
   ]
  },
  {
   "cell_type": "markdown",
   "id": "9db990d4",
   "metadata": {
    "papermill": {
     "duration": null,
     "end_time": null,
     "exception": null,
     "start_time": null,
     "status": "pending"
    },
    "tags": []
   },
   "source": [
    "## Summenhistogramm\n",
    "Zusätzlich wird ein Summendiagramm erstellt, das die Anzahl der zu 80% durch EE-Energie gedeckten 15-Minuten aufzeigt."
   ]
  },
  {
   "cell_type": "code",
   "execution_count": null,
   "id": "804582e5",
   "metadata": {
    "execution": {
     "iopub.execute_input": "2025-01-12T00:23:56.472341Z",
     "iopub.status.busy": "2025-01-12T00:23:56.472189Z",
     "iopub.status.idle": "2025-01-12T00:23:58.319138Z",
     "shell.execute_reply": "2025-01-12T00:23:58.318870Z"
    },
    "papermill": {
     "duration": null,
     "end_time": null,
     "exception": null,
     "start_time": null,
     "status": "pending"
    },
    "tags": []
   },
   "outputs": [],
   "source": [
    "\n",
    "# Prozentsätze definieren\n",
    "percentages = [0.10, 0.20, 0.30, 0.40, 0.50, 0.60, 0.70, 0.80]\n",
    "\n",
    "# Dictionary, um die Anzahl der Viertelstunden für jeden Prozentsatz zu speichern\n",
    "coverage_counts = {percentage: 0 for percentage in percentages}\n",
    "\n",
    "# Berechne die Deckung für jede Viertelstunde\n",
    "for index, row in production_2030.iterrows():\n",
    "    for percentage in percentages:\n",
    "        if row['Gesamterzeugung_EE'] >= percentage * consumption_2030.loc[index, 'Gesamtverbrauch']:\n",
    "            coverage_counts[percentage] += 1\n",
    "\n",
    "# Füge die Gesamtanzahl der Viertelstunden hinzu\n",
    "total_quarters = len(production_2030)\n",
    "coverage_counts['Gesamtanzahl'] = total_quarters\n",
    "\n",
    "# Erstelle ein Summenhistogramm\n",
    "plt.figure(figsize=(12, 6))\n",
    "# Convert keys to strings for consistent data types\n",
    "coverage_counts_str_keys = {str(key): value for key, value in coverage_counts.items()}\n",
    "\n",
    "bars = plt.bar(coverage_counts_str_keys.keys(), coverage_counts_str_keys.values(), width=0.10, align='center')\n",
    "\n",
    "# Annotate bars with percentage of total quarters\n",
    "for bar in bars:\n",
    "    height = bar.get_height()\n",
    "    percentage = (height / total_quarters) * 100\n",
    "    plt.annotate(f'{percentage:.2f}%', xy=(bar.get_x() + bar.get_width() / 2, height),\n",
    "                 xytext=(0, 3),  # 3 points vertical offset\n",
    "                 textcoords=\"offset points\",\n",
    "                 ha='center', va='bottom')\n",
    "\n",
    "plt.xlabel('Prozentsatz des Gesamtverbrauchs')\n",
    "plt.ylabel('Anzahl der Viertelstunden')\n",
    "plt.title('Anzahl der Viertelstunden, in denen die erzeugte Energie einen bestimmten Prozentsatz des Gesamtverbrauchs deckt')\n",
    "plt.xticks([str(key) for key in coverage_counts.keys()], rotation=45)\n",
    "plt.grid(True)\n",
    "plt.savefig('assets/plots/summenhistogramm.png')\n",
    "plt.show()\n",
    "\n"
   ]
  },
  {
   "cell_type": "markdown",
   "id": "a9bcf113",
   "metadata": {
    "papermill": {
     "duration": null,
     "end_time": null,
     "exception": null,
     "start_time": null,
     "status": "pending"
    },
    "tags": []
   },
   "source": [
    "## Diagramm für Residuallast (Differenz zw. EE-Erzeugung und Verbrauch)\n",
    "\n",
    "**positive Differenz (Erzeugung > Verbrauch)**<br>\n",
    "Hinweis auf eine Überschussproduktion, die EE-Erzeugung deckt den Verbrauch vollkommen und darüber hinaus. Der erzeugte Strom kann nicht vollständig verwendet werden (Exportmöglichkeit).\n",
    "\n",
    "**negative Differenz (Erzeugung < Verbrauch)**<br>\n",
    "Der Verbrauch ist höher als die EE-Erzeugung und kann also nicht abgedeckt werden. EE müssen ausgebaut werden.\n",
    "\n",
    "**Trend**<br>\n",
    "Die Differenz kann bei höherer Auflösung betrachtet evtl. schwanken -> saisonale Unterschiede in Produktionsmöglichkeiten für EE (bsp. im Winter weniger Sonne).\n",
    "Ein positiver langfristiger Trend könnte auf eine erfolgreiche Integration erneuerbarer Energien hinweisen, während ein negativer langfristiger Trend auf Herausforderungen bei der Deckung des Energiebedarfs durch erneuerbare Energien hinweisen könnte.\n"
   ]
  },
  {
   "cell_type": "code",
   "execution_count": null,
   "id": "e3051c27",
   "metadata": {
    "execution": {
     "iopub.execute_input": "2025-01-12T00:23:58.337535Z",
     "iopub.status.busy": "2025-01-12T00:23:58.337343Z",
     "iopub.status.idle": "2025-01-12T00:23:58.612232Z",
     "shell.execute_reply": "2025-01-12T00:23:58.611982Z"
    },
    "papermill": {
     "duration": null,
     "end_time": null,
     "exception": null,
     "start_time": null,
     "status": "pending"
    },
    "tags": []
   },
   "outputs": [],
   "source": [
    "plotResidualDiagram(2023, 2030, directory_yearly_generation, consumption_existing_years)"
   ]
  },
  {
   "cell_type": "markdown",
   "id": "b98f7692",
   "metadata": {
    "papermill": {
     "duration": null,
     "end_time": null,
     "exception": null,
     "start_time": null,
     "status": "pending"
    },
    "tags": []
   },
   "source": [
    "## Wochendiagramm: Vergleich Verbrauch Erzeugung/Verbrauch, 15min"
   ]
  },
  {
   "cell_type": "code",
   "execution_count": null,
   "id": "ca86e618",
   "metadata": {
    "execution": {
     "iopub.execute_input": "2025-01-12T00:23:58.630975Z",
     "iopub.status.busy": "2025-01-12T00:23:58.630751Z",
     "iopub.status.idle": "2025-01-12T00:24:06.931500Z",
     "shell.execute_reply": "2025-01-12T00:24:06.930906Z"
    },
    "papermill": {
     "duration": null,
     "end_time": null,
     "exception": null,
     "start_time": null,
     "status": "pending"
    },
    "tags": []
   },
   "outputs": [],
   "source": [
    "selected_week = '02'\n",
    "selected_year = '2030'\n",
    "\n",
    "\n",
    "\n",
    "# didirectory_yearly_generation and consumption_existing_years are dicitionaries\n",
    "\n",
    "plotWeekDiagramm(selected_week, selected_year, consumption_existing_years, directory_yearly_generation,  \"wochendiagramm_KW\")"
   ]
  },
  {
   "cell_type": "markdown",
   "id": "ecb735fb",
   "metadata": {
    "papermill": {
     "duration": null,
     "end_time": null,
     "exception": null,
     "start_time": null,
     "status": "pending"
    },
    "tags": []
   },
   "source": [
    "# CO2-Bilanz bilden\n",
    "\n",
    "Wir untersuchen weiterhin die Residuallast - die hier verbleibenden MWh geben uns Auskunft über die verbleibenden CO2-Emissionen. Ist die Resiudalllast = 0, sind auch die Emissionen auf 0T gesunken.\n",
    "Die Emissionen werden pro fossielem Energieträger (Kohle und Gas) berechnet. Eine MWH hat je Energieträger produziert spezifische Werte CO2-Tonnen, diese werden aufsummiert.\n"
   ]
  },
  {
   "cell_type": "code",
   "execution_count": null,
   "id": "386527b5",
   "metadata": {
    "execution": {
     "iopub.execute_input": "2025-01-12T00:24:06.988200Z",
     "iopub.status.busy": "2025-01-12T00:24:06.986928Z",
     "iopub.status.idle": "2025-01-12T00:24:07.015952Z",
     "shell.execute_reply": "2025-01-12T00:24:07.015682Z"
    },
    "papermill": {
     "duration": null,
     "end_time": null,
     "exception": null,
     "start_time": null,
     "status": "pending"
    },
    "tags": []
   },
   "outputs": [],
   "source": [
    "#Summiere die Differenz der Viertelstunden\n",
    "total_residual_energy = (resdidual_df['Differenz in MWh'].sum())\n",
    "\n",
    "print(f\"Insgesamt müssen {total_residual_energy/1000} GWh über fossile Brennstoffe erzeugt werden.\")\n",
    "\n",
    "if total_residual_energy > 0:\n",
    "    total_residual_energy_CO2_Kohle = total_residual_energy * CO2_factor_Kohle * share_coal\n",
    "    total_residual_energy_CO2_gas = total_residual_energy * CO2_factor_Gas * share_gas \n",
    "    total_co2 = total_residual_energy_CO2_Kohle + total_residual_energy_CO2_gas\n",
    "    print(\"Es werden insgesamt {} Tonnen CO2 emittiert. Davon sind {} Tonnen CO2 aus Kohle und {} Tonnen CO2 aus Gas.\".format(total_co2, total_residual_energy_CO2_Kohle, total_residual_energy_CO2_gas))\n",
    "elif total_residual_energy < 0:\n",
    "    print(\"Es wird kein CO2 emittiert.\")\n",
    "else:\n",
    "    print(\"Es liegt ein Fehler in der Berechnung vor.\") "
   ]
  },
  {
   "cell_type": "markdown",
   "id": "48638dee",
   "metadata": {
    "papermill": {
     "duration": null,
     "end_time": null,
     "exception": null,
     "start_time": null,
     "status": "pending"
    },
    "tags": []
   },
   "source": [
    "# User-Info"
   ]
  },
  {
   "cell_type": "code",
   "execution_count": null,
   "id": "eb9afdd8",
   "metadata": {
    "execution": {
     "iopub.execute_input": "2025-01-12T00:24:07.036090Z",
     "iopub.status.busy": "2025-01-12T00:24:07.035926Z",
     "iopub.status.idle": "2025-01-12T00:24:07.560877Z",
     "shell.execute_reply": "2025-01-12T00:24:07.560559Z"
    },
    "papermill": {
     "duration": null,
     "end_time": null,
     "exception": null,
     "start_time": null,
     "status": "pending"
    },
    "tags": []
   },
   "outputs": [],
   "source": [
    "from utils.PDF_class import PDF\n",
    "\n",
    "# Instantiation of inherited class\n",
    "pdf = PDF()\n",
    "pdf.alias_nb_pages()\n",
    "pdf.add_page()\n",
    "pdf.set_font('Helvetica', '', 12)\n",
    "\n",
    "intro = '<em>In dieser Zusammenfassung werden die Ergebnisse der Simulation für das Jahr 2030 präsentiert.</em>'\n",
    "pdf.write_html(f'<p>{intro}</p>')\n",
    "# Line break\n",
    "pdf.ln(10)\n",
    "\n",
    "# szenario beschreibung\n",
    "# Variablen und Beschreibungen hinzufügen\n",
    "# Daten für die Tabelle vorbereiten\n",
    "pdf.set_font('Helvetica', '', 8)\n",
    "table_desc = 'Im folgenden Werden die zugrunde gelegten Parameter zur Berechnung der Simulation aufgeführt.'\n",
    "pdf.write_html(f'<p>{table_desc}</p>')\n",
    "# Line break\n",
    "pdf.ln(5)\n",
    "table_data = [\n",
    "    ['Beschreibung', 'Szenario-Wert'],\n",
    "    ['Entwicklung des Verbrauchs pro Jahr (2024)', consumption_development_per_year[2024]],\n",
    "    ['Entwicklung des Verbrauchs pro Jahr (2025)', consumption_development_per_year[2025]],\n",
    "    ['Entwicklung des Verbrauchs pro Jahr (2026)', consumption_development_per_year[2026]],\n",
    "    ['Entwicklung des Verbrauchs pro Jahr (2027)', consumption_development_per_year[2027]],\n",
    "    ['Entwicklung des Verbrauchs pro Jahr (2028)', consumption_development_per_year[2028]],\n",
    "    ['Entwicklung des Verbrauchs pro Jahr (2029)', consumption_development_per_year[2029]],\n",
    "    ['Entwicklung des Verbrauchs pro Jahr (2030)', consumption_development_per_year[2030]],\n",
    "    ['Entwicklungsrate Onshore pA.', onshore_development_rate],\n",
    "    ['Entwicklungsrate Offshore pA.', offshore_development_rate],\n",
    "    ['Entwicklungsrate PV pA.', pv_development_rate],\n",
    "    ['CO2-Faktor Kohle', CO2_factor_Kohle],\n",
    "    ['CO2-Faktor Gas', CO2_factor_Gas],\n",
    "    ['Anteil Kohle', share_coal],\n",
    "    ['Anteil Gas', share_gas],\n",
    "    ['IST installierte Wärmepumpen', IST_installierte_waermepumpen],\n",
    "    ['SOLL installierte Wärmepumpen 2030', SOLL_installierte_waermepumpen]\n",
    "]\n",
    "# Tabelle hinzufügen\n",
    "pdf.add_table(table_data)\n",
    "pdf.add_page()\n",
    "\n",
    "# Bilder einfügen\n",
    "name = 'Abb. 1, HeatMap'\n",
    "desc = 'Die HeatMap zeigt die Differenz zwischen dem Verbrauch und der Erzeugung von Energie für das Jahr 2030.'\n",
    "pdf.add_image_with_text('assets/plots/heatmap.png', name,  desc, 160, 90)\n",
    "\n",
    "\n",
    "# Bilder einfügen\n",
    "name = 'Abb. 2, Residuallast'\n",
    "desc = 'Das Diagramm zeigt die Residuallast für die Jahre 2023 bis 2030.'\n",
    "pdf.add_image_with_text('assets/plots/residual_diagramm.png', name,  desc, 160, 90)\n",
    "\n",
    "# Bilder einfügen\n",
    "name = 'Abb. 3, Summenhistogramm'\n",
    "desc = 'Das Histogramm zeigt die Anzahl der Viertelstunden, in denen die erzeugte Energie einen bestimmten Prozentsatz des Gesamtverbrauchs deckt.'\n",
    "pdf.add_image_with_text('assets/plots/summenhistogramm.png', name,  desc, 160, 90)\n",
    "\n",
    "# Bilder einfügen\n",
    "name = 'Abb. 4, Vergleich des Verbrauchs ohne und mit Lastprofilen'\n",
    "desc = 'Das Diagramm zeigt die Entwicklung des Verbrauchs und der Erzeugung von Energie für das Jahr 2030.'\n",
    "pdf.add_image_with_text('assets/plots/vergleich_verbrauch_lastprofile.png', name,  desc, 160, 90)\n",
    "\n",
    "# Bilder einfügen\n",
    "name = 'Abb. 5, Wochendiagramm - Vergleich von Verbrauch und Erzeugung, Speicherauslastung'\n",
    "desc = 'Das Diagramm zeigt den Vergleich von Verbrauch und Erzeugung für eine ausgewählte Woche im Jahr 2030.'\n",
    "pdf.add_image_with_text('assets/plots/wochendiagramm_KW.png', name,  desc, 160, 90)\n",
    "\n",
    "# Bilder einfügen\n",
    "name = 'Abb. 6, Hochrechnung installierte Leistung, Polynomregression'\n",
    "desc = 'Das Diagramm zeigt die Hochrechnung der installierten Leistung bis zum Jahr 2030'\n",
    "pdf.add_image_with_text('CSV/Installed/installed_capacities_projections.png', name,  desc, 160, 90)\n",
    "\n",
    "\n",
    "\n",
    "\n",
    "pdf.output('zusammenfassung_simulation.pdf')\n"
   ]
  }
 ],
 "metadata": {
  "kernelspec": {
   "display_name": "Python 3",
   "language": "python",
   "name": "python3"
  },
  "language_info": {
   "codemirror_mode": {
    "name": "ipython",
    "version": 3
   },
   "file_extension": ".py",
   "mimetype": "text/x-python",
   "name": "python",
   "nbconvert_exporter": "python",
   "pygments_lexer": "ipython3",
   "version": "3.12.4"
  },
  "papermill": {
   "default_parameters": {},
   "duration": 2.766472,
   "end_time": "2025-01-12T00:24:21.983076",
   "environment_variables": {},
   "exception": true,
   "input_path": "/Users/private/Desktop/Projects/Klimaneutral-20245/prototyp_2.ipynb",
   "output_path": "/Users/private/Desktop/Projects/Klimaneutral-20245/prototyp_2.ipynb",
   "parameters": {
    "CO2_factor_Gas": 0.2,
    "CO2_factor_Kohle": 0.35,
    "IST_installierte_waermepumpen": 1400000.0,
    "SOLL_installierte_waermepumpen": 5999000.0,
    "consumption_development_per_year": {
     "2024": 1.080071866,
     "2025": 1.074135684,
     "2026": 1.069018919,
     "2027": 1.06456286,
     "2028": 1.060647297,
     "2029": 1.057179514,
     "2030": 1.054082351
    },
    "netzverluste": 0.95279,
    "offshore_development_rate": 1.232,
    "onshore_development_rate": 1.104,
    "pv_development_rate": 1.169,
    "share_coal": 0.58974,
    "share_gas": 0.41026
   },
   "start_time": "2025-01-12T00:24:19.216604",
   "version": "2.6.0"
  }
 },
 "nbformat": 4,
 "nbformat_minor": 5
}